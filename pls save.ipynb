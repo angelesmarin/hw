{
 "cells": [
  {
   "cell_type": "code",
   "execution_count": 103,
   "id": "cc0b5d3e",
   "metadata": {},
   "outputs": [],
   "source": [
    "import pandas as pd\n",
    "import math"
   ]
  },
  {
   "cell_type": "code",
   "execution_count": 104,
   "id": "baa1b126",
   "metadata": {},
   "outputs": [],
   "source": [
    "file_path = '/Users/angelesmarin/Desktop/throwaway/cs455_homework2_MarinBatana_Woodruff_dataset.csv'\n",
    "data = pd.read_csv(file_path)"
   ]
  },
  {
   "cell_type": "code",
   "execution_count": 105,
   "id": "2ed2c015",
   "metadata": {},
   "outputs": [],
   "source": [
    "#normalizing numerical attributes\n",
    "\n",
    "def normalize_numerical_data(data):\n",
    "    new_data = data.copy()\n",
    "    \n",
    "    #only recognizing numerical attributes\n",
    "    numerical_attributes = data.select_dtypes(include=['number']).columns\n",
    "    \n",
    "    for i in numerical_attributes:\n",
    "        min_ = data[i].min()\n",
    "        max_ = data[i].max()\n",
    "        new_data[i] = (data[i] - min_) / (max_ - min_)\n",
    "    return new_data"
   ]
  },
  {
   "cell_type": "code",
   "execution_count": 106,
   "id": "b14e79bc",
   "metadata": {
    "scrolled": false
   },
   "outputs": [],
   "source": [
    "data_normalized = normalize_numerical_data(data)"
   ]
  },
  {
   "cell_type": "code",
   "execution_count": 107,
   "id": "79bbc8b2",
   "metadata": {},
   "outputs": [],
   "source": [
    "#distance matrix for numerical attributes\n",
    "\n",
    "def compute_distance_matrix_numerical(data):\n",
    "    \n",
    "    #only numerical attributes\n",
    "    numerical_attributes = data.select_dtypes(include=['number']).columns\n",
    "    numerical_distance_matrix = []\n",
    "    \n",
    "    for i in range(len(data)):\n",
    "        temp = []\n",
    "        for j in range(len(data)):\n",
    "            \n",
    "            #only numerical attributes\n",
    "            difference = math.sqrt(sum((data[numerical_attributes].iloc[i] - data[numerical_attributes].iloc[j])**2))\n",
    "            temp.append(round(difference, 2))\n",
    "        numerical_distance_matrix.append(temp)\n",
    "    return numerical_distance_matrix"
   ]
  },
  {
   "cell_type": "code",
   "execution_count": 108,
   "id": "8d91d445",
   "metadata": {},
   "outputs": [],
   "source": [
    "distance_num = compute_distance_matrix_numerical(data_normalized)"
   ]
  },
  {
   "cell_type": "code",
   "execution_count": 109,
   "id": "bcb8d32e",
   "metadata": {},
   "outputs": [],
   "source": [
    "#distance matrix for categorical data\n",
    "\n",
    "def compute_distance_categorical(data):\n",
    "    distance_matrix_categorical = []\n",
    "    for i in range(len(data)):\n",
    "        temp = []\n",
    "        \n",
    "        for j in range(len(data)):\n",
    "            \n",
    "            #access rows of 'data'\n",
    "            if (data.iloc[i] != data.iloc[j]).any():\n",
    "                difference = 1\n",
    "            else: \n",
    "                difference = 0\n",
    "            temp.append(difference)\n",
    "        distance_matrix_categorical.append(temp)\n",
    "    return distance_matrix_categorical"
   ]
  },
  {
   "cell_type": "code",
   "execution_count": 110,
   "id": "bacd588b",
   "metadata": {},
   "outputs": [],
   "source": [
    "distance_cat = compute_distance_categorical(data)"
   ]
  },
  {
   "cell_type": "code",
   "execution_count": 111,
   "id": "b813d8f7",
   "metadata": {},
   "outputs": [],
   "source": [
    "#distance matrix for ordinal data\n",
    "\n",
    "def compute_distance_ordinal(data):\n",
    "    distance_matrix_ordinal = []\n",
    "    status = [\n",
    "        'some high school',\n",
    "        'high school',\n",
    "        'some college',\n",
    "        \"associate's degree\",\n",
    "        \"bachelor's degree\",\n",
    "        \"master's degree\"\n",
    "    ]\n",
    "    for i in range(len(data)):\n",
    "        temp = []\n",
    "        for j in range(len(data)):\n",
    "            status_i = status.index(data.iloc[i]['parental level of education'])\n",
    "            status_j = status.index(data.iloc[j]['parental level of education'])\n",
    "            difference = round(math.fabs(status_i - status_j) / (len(status) - 1), 2)\n",
    "            temp.append(difference)\n",
    "        distance_matrix_ordinal.append(temp)\n",
    "    return distance_matrix_ordinal"
   ]
  },
  {
   "cell_type": "code",
   "execution_count": 112,
   "id": "addf1801",
   "metadata": {},
   "outputs": [],
   "source": [
    "distance_or = compute_distance_ordinal(data)"
   ]
  },
  {
   "cell_type": "code",
   "execution_count": 113,
   "id": "47450c00",
   "metadata": {},
   "outputs": [],
   "source": [
    "#distance matrix for numerical, categorical, and ordinal data\n",
    "\n",
    "def compute_distance_final(distance_num, distance_cat, distance_or):\n",
    "    distance_matrix = []\n",
    "    for i in range(len(distance_num)):\n",
    "        temp = []\n",
    "        for j in range(len(distance_num)):\n",
    "            \n",
    "            #finds average distance from matrices\n",
    "            sum_distance = (distance_num[i][j] + distance_cat[i][j] + distance_or[i][j]) / 3\n",
    "            temp.append(round(sum_distance, 2))\n",
    "        distance_matrix.append(temp)\n",
    "    return distance_matrix"
   ]
  },
  {
   "cell_type": "code",
   "execution_count": 114,
   "id": "2daa92e8",
   "metadata": {},
   "outputs": [],
   "source": [
    "distance_final = compute_distance_final(distance_num, distance_cat ,distance_or)"
   ]
  },
  {
   "cell_type": "code",
   "execution_count": null,
   "id": "97769126",
   "metadata": {
    "scrolled": true
   },
   "outputs": [],
   "source": [
    "first_input = int(input(\"Input the first record number (1-100):\"))"
   ]
  },
  {
   "cell_type": "code",
   "execution_count": null,
   "id": "7e9e28f9",
   "metadata": {},
   "outputs": [],
   "source": [
    "second_input = int(input(\"Input the second record number (1-100):\"))"
   ]
  },
  {
   "cell_type": "code",
   "execution_count": null,
   "id": "847aca5b",
   "metadata": {},
   "outputs": [],
   "source": [
    "input_one = \"record \" + str(first_input)\n",
    "input_two = \"record \" + str(second_input)"
   ]
  },
  {
   "cell_type": "code",
   "execution_count": null,
   "id": "678746cc",
   "metadata": {
    "scrolled": false
   },
   "outputs": [],
   "source": [
    "distance = distance_final[first_input - 1][second_input - 1]"
   ]
  },
  {
   "cell_type": "code",
   "execution_count": null,
   "id": "99fbca94",
   "metadata": {},
   "outputs": [],
   "source": [
    "print(f\"The distance between {record1} and {record2} is {distance}.\")"
   ]
  },
  {
   "cell_type": "code",
   "execution_count": null,
   "id": "fbd4e35d",
   "metadata": {},
   "outputs": [],
   "source": [
    "print(f\"The distance between {record1} and {record2} is {distance}.\")"
   ]
  },
  {
   "cell_type": "code",
   "execution_count": null,
   "id": "c4d4af74",
   "metadata": {},
   "outputs": [],
   "source": []
  }
 ],
 "metadata": {
  "kernelspec": {
   "display_name": "Python 3 (ipykernel)",
   "language": "python",
   "name": "python3"
  },
  "language_info": {
   "codemirror_mode": {
    "name": "ipython",
    "version": 3
   },
   "file_extension": ".py",
   "mimetype": "text/x-python",
   "name": "python",
   "nbconvert_exporter": "python",
   "pygments_lexer": "ipython3",
   "version": "3.11.5"
  }
 },
 "nbformat": 4,
 "nbformat_minor": 5
}
